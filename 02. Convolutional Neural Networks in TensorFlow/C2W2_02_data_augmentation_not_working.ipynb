{
  "nbformat": 4,
  "nbformat_minor": 0,
  "metadata": {
    "accelerator": "GPU",
    "colab": {
      "name": "Copia de Course 2 - Part 4 - Lesson 4 - Notebook.ipynb",
      "provenance": [],
      "collapsed_sections": [],
      "toc_visible": true
    },
    "kernelspec": {
      "display_name": "Python 3",
      "name": "python3"
    }
  },
  "cells": [
    {
      "cell_type": "markdown",
      "metadata": {
        "colab_type": "text",
        "id": "rX8mhOLljYeM"
      },
      "source": [
        "##### Copyright 2019 The TensorFlow Authors."
      ]
    },
    {
      "cell_type": "code",
      "metadata": {
        "cellView": "form",
        "colab_type": "code",
        "id": "BZSlp3DAjdYf",
        "colab": {}
      },
      "source": [
        "#@title Licensed under the Apache License, Version 2.0 (the \"License\");\n",
        "# you may not use this file except in compliance with the License.\n",
        "# You may obtain a copy of the License at\n",
        "#\n",
        "# https://www.apache.org/licenses/LICENSE-2.0\n",
        "#\n",
        "# Unless required by applicable law or agreed to in writing, software\n",
        "# distributed under the License is distributed on an \"AS IS\" BASIS,\n",
        "# WITHOUT WARRANTIES OR CONDITIONS OF ANY KIND, either express or implied.\n",
        "# See the License for the specific language governing permissions and\n",
        "# limitations under the License."
      ],
      "execution_count": 0,
      "outputs": []
    },
    {
      "cell_type": "markdown",
      "metadata": {
        "id": "-5uWkpBPTVZl",
        "colab_type": "text"
      },
      "source": [
        "# Data Augmentation: not always the solution"
      ]
    },
    {
      "cell_type": "code",
      "metadata": {
        "colab_type": "code",
        "id": "RXZT2UsyIVe_",
        "colab": {
          "base_uri": "https://localhost:8080/",
          "height": 383
        },
        "outputId": "c71a8716-8deb-4f32-e4ad-57a93d9f0e4c"
      },
      "source": [
        "!wget --no-check-certificate \\\n",
        "    https://storage.googleapis.com/laurencemoroney-blog.appspot.com/horse-or-human.zip \\\n",
        "    -O /tmp/horse-or-human.zip\n",
        "\n",
        "!wget --no-check-certificate \\\n",
        "    https://storage.googleapis.com/laurencemoroney-blog.appspot.com/validation-horse-or-human.zip \\\n",
        "    -O /tmp/validation-horse-or-human.zip\n",
        "  \n",
        "import os\n",
        "import zipfile\n",
        "\n",
        "local_zip = '/tmp/horse-or-human.zip'\n",
        "zip_ref = zipfile.ZipFile(local_zip, 'r')\n",
        "zip_ref.extractall('/tmp/horse-or-human')\n",
        "local_zip = '/tmp/validation-horse-or-human.zip'\n",
        "zip_ref = zipfile.ZipFile(local_zip, 'r')\n",
        "zip_ref.extractall('/tmp/validation-horse-or-human')\n",
        "zip_ref.close()\n",
        "# Directory with our training horse pictures\n",
        "train_horse_dir = os.path.join('/tmp/horse-or-human/horses')\n",
        "\n",
        "# Directory with our training human pictures\n",
        "train_human_dir = os.path.join('/tmp/horse-or-human/humans')\n",
        "\n",
        "# Directory with our training horse pictures\n",
        "validation_horse_dir = os.path.join('/tmp/validation-horse-or-human/horses')\n",
        "\n",
        "# Directory with our training human pictures\n",
        "validation_human_dir = os.path.join('/tmp/validation-horse-or-human/humans')"
      ],
      "execution_count": 1,
      "outputs": [
        {
          "output_type": "stream",
          "text": [
            "--2020-05-20 18:17:05--  https://storage.googleapis.com/laurencemoroney-blog.appspot.com/horse-or-human.zip\n",
            "Resolving storage.googleapis.com (storage.googleapis.com)... 64.233.166.128, 2a00:1450:400c:c02::80\n",
            "Connecting to storage.googleapis.com (storage.googleapis.com)|64.233.166.128|:443... connected.\n",
            "HTTP request sent, awaiting response... 200 OK\n",
            "Length: 149574867 (143M) [application/zip]\n",
            "Saving to: ‘/tmp/horse-or-human.zip’\n",
            "\n",
            "/tmp/horse-or-human 100%[===================>] 142.65M  94.3MB/s    in 1.5s    \n",
            "\n",
            "2020-05-20 18:17:06 (94.3 MB/s) - ‘/tmp/horse-or-human.zip’ saved [149574867/149574867]\n",
            "\n",
            "--2020-05-20 18:17:08--  https://storage.googleapis.com/laurencemoroney-blog.appspot.com/validation-horse-or-human.zip\n",
            "Resolving storage.googleapis.com (storage.googleapis.com)... 108.177.15.128, 2a00:1450:400c:c04::80\n",
            "Connecting to storage.googleapis.com (storage.googleapis.com)|108.177.15.128|:443... connected.\n",
            "HTTP request sent, awaiting response... 200 OK\n",
            "Length: 11480187 (11M) [application/zip]\n",
            "Saving to: ‘/tmp/validation-horse-or-human.zip’\n",
            "\n",
            "/tmp/validation-hor 100%[===================>]  10.95M  31.4MB/s    in 0.3s    \n",
            "\n",
            "2020-05-20 18:17:10 (31.4 MB/s) - ‘/tmp/validation-horse-or-human.zip’ saved [11480187/11480187]\n",
            "\n"
          ],
          "name": "stdout"
        }
      ]
    },
    {
      "cell_type": "markdown",
      "metadata": {
        "colab_type": "text",
        "id": "5oqBkNBJmtUv"
      },
      "source": [
        "## Building a Small Model from Scratch\n",
        "\n",
        "But before we continue, let's start defining the model:\n",
        "\n",
        "Step 1 will be to import tensorflow."
      ]
    },
    {
      "cell_type": "code",
      "metadata": {
        "colab_type": "code",
        "id": "qvfZg3LQbD-5",
        "colab": {}
      },
      "source": [
        "import tensorflow as tf"
      ],
      "execution_count": 0,
      "outputs": []
    },
    {
      "cell_type": "markdown",
      "metadata": {
        "colab_type": "text",
        "id": "BnhYCP4tdqjC"
      },
      "source": [
        "We then add convolutional layers as in the previous example, and flatten the final result to feed into the densely connected layers."
      ]
    },
    {
      "cell_type": "markdown",
      "metadata": {
        "colab_type": "text",
        "id": "gokG5HKpdtzm"
      },
      "source": [
        "Finally we add the densely connected layers. \n",
        "\n",
        "Note that because we are facing a two-class classification problem, i.e. a *binary classification problem*, we will end our network with a [*sigmoid* activation](https://wikipedia.org/wiki/Sigmoid_function), so that the output of our network will be a single scalar between 0 and 1, encoding the probability that the current image is class 1 (as opposed to class 0)."
      ]
    },
    {
      "cell_type": "code",
      "metadata": {
        "colab_type": "code",
        "id": "PixZ2s5QbYQ3",
        "colab": {}
      },
      "source": [
        "model = tf.keras.models.Sequential([\n",
        "    # Note the input shape is the desired size of the image 300x300 with 3 bytes color\n",
        "    # This is the first convolution\n",
        "    tf.keras.layers.Conv2D(16, (3,3), activation='relu', input_shape=(300, 300, 3)),\n",
        "    tf.keras.layers.MaxPooling2D(2, 2),\n",
        "    # The second convolution\n",
        "    tf.keras.layers.Conv2D(32, (3,3), activation='relu'),\n",
        "    tf.keras.layers.MaxPooling2D(2,2),\n",
        "    # The third convolution\n",
        "    tf.keras.layers.Conv2D(64, (3,3), activation='relu'),\n",
        "    tf.keras.layers.MaxPooling2D(2,2),\n",
        "    # The fourth convolution\n",
        "    tf.keras.layers.Conv2D(64, (3,3), activation='relu'),\n",
        "    tf.keras.layers.MaxPooling2D(2,2),\n",
        "    # The fifth convolution\n",
        "    tf.keras.layers.Conv2D(64, (3,3), activation='relu'),\n",
        "    tf.keras.layers.MaxPooling2D(2,2),\n",
        "    # Flatten the results to feed into a DNN\n",
        "    tf.keras.layers.Flatten(),\n",
        "    # 512 neuron hidden layer\n",
        "    tf.keras.layers.Dense(512, activation='relu'),\n",
        "    # Only 1 output neuron. It will contain a value from 0-1 where 0 for 1 class ('horses') and 1 for the other ('humans')\n",
        "    tf.keras.layers.Dense(1, activation='sigmoid')\n",
        "])"
      ],
      "execution_count": 0,
      "outputs": []
    },
    {
      "cell_type": "code",
      "metadata": {
        "colab_type": "code",
        "id": "8DHWhFP_uhq3",
        "colab": {}
      },
      "source": [
        "from tensorflow.keras.optimizers import RMSprop\n",
        "\n",
        "model.compile(loss='binary_crossentropy',\n",
        "              optimizer=RMSprop(lr=1e-4),\n",
        "              metrics=['accuracy'])"
      ],
      "execution_count": 0,
      "outputs": []
    },
    {
      "cell_type": "code",
      "metadata": {
        "colab_type": "code",
        "id": "ClebU9NJg99G",
        "colab": {
          "base_uri": "https://localhost:8080/",
          "height": 50
        },
        "outputId": "d5896ed4-568d-4f4d-d63f-84f28a23ccd9"
      },
      "source": [
        "from tensorflow.keras.preprocessing.image import ImageDataGenerator\n",
        "\n",
        "# All images will be rescaled by 1./255\n",
        "train_datagen = ImageDataGenerator(\n",
        "      rescale=1./255,\n",
        "      rotation_range=40,\n",
        "      width_shift_range=0.2,\n",
        "      height_shift_range=0.2,\n",
        "      shear_range=0.2,\n",
        "      zoom_range=0.2,\n",
        "      horizontal_flip=True,\n",
        "      fill_mode='nearest')\n",
        "\n",
        "validation_datagen = ImageDataGenerator(rescale=1/255)\n",
        "\n",
        "# Flow training images in batches of 128 using train_datagen generator\n",
        "train_generator = train_datagen.flow_from_directory(\n",
        "        '/tmp/horse-or-human/',  # This is the source directory for training images\n",
        "        target_size=(300, 300),  # All images will be resized to 150x150\n",
        "        batch_size=128,\n",
        "        # Since we use binary_crossentropy loss, we need binary labels\n",
        "        class_mode='binary')\n",
        "\n",
        "# Flow training images in batches of 128 using train_datagen generator\n",
        "validation_generator = validation_datagen.flow_from_directory(\n",
        "        '/tmp/validation-horse-or-human/',  # This is the source directory for training images\n",
        "        target_size=(300, 300),  # All images will be resized to 150x150\n",
        "        batch_size=32,\n",
        "        # Since we use binary_crossentropy loss, we need binary labels\n",
        "        class_mode='binary')"
      ],
      "execution_count": 5,
      "outputs": [
        {
          "output_type": "stream",
          "text": [
            "Found 1027 images belonging to 2 classes.\n",
            "Found 256 images belonging to 2 classes.\n"
          ],
          "name": "stdout"
        }
      ]
    },
    {
      "cell_type": "code",
      "metadata": {
        "colab_type": "code",
        "id": "Fb1_lgobv81m",
        "colab": {
          "base_uri": "https://localhost:8080/",
          "height": 1000
        },
        "outputId": "2d9d5a7b-0000-4c17-d2b8-4624dc1ee4f9"
      },
      "source": [
        "history = model.fit(\n",
        "      train_generator,\n",
        "      steps_per_epoch=8,  \n",
        "      epochs=100,\n",
        "      verbose=1,\n",
        "      validation_data = validation_generator,\n",
        "      validation_steps=8)"
      ],
      "execution_count": 6,
      "outputs": [
        {
          "output_type": "stream",
          "text": [
            "Epoch 1/100\n",
            "8/8 [==============================] - 17s 2s/step - loss: 0.6927 - accuracy: 0.5139 - val_loss: 0.6670 - val_accuracy: 0.7461\n",
            "Epoch 2/100\n",
            "8/8 [==============================] - 22s 3s/step - loss: 0.6789 - accuracy: 0.6240 - val_loss: 0.6365 - val_accuracy: 0.7617\n",
            "Epoch 3/100\n",
            "8/8 [==============================] - 19s 2s/step - loss: 0.6611 - accuracy: 0.6429 - val_loss: 0.7009 - val_accuracy: 0.5000\n",
            "Epoch 4/100\n",
            "8/8 [==============================] - 20s 2s/step - loss: 0.6784 - accuracy: 0.5918 - val_loss: 0.5817 - val_accuracy: 0.7070\n",
            "Epoch 5/100\n",
            "8/8 [==============================] - 19s 2s/step - loss: 0.6083 - accuracy: 0.7453 - val_loss: 0.5268 - val_accuracy: 0.7695\n",
            "Epoch 6/100\n",
            "8/8 [==============================] - 22s 3s/step - loss: 0.5844 - accuracy: 0.7256 - val_loss: 0.4776 - val_accuracy: 0.7852\n",
            "Epoch 7/100\n",
            "8/8 [==============================] - 19s 2s/step - loss: 0.5565 - accuracy: 0.7353 - val_loss: 0.6389 - val_accuracy: 0.6602\n",
            "Epoch 8/100\n",
            "8/8 [==============================] - 22s 3s/step - loss: 0.5341 - accuracy: 0.7188 - val_loss: 0.5780 - val_accuracy: 0.7266\n",
            "Epoch 9/100\n",
            "8/8 [==============================] - 20s 2s/step - loss: 0.5208 - accuracy: 0.7375 - val_loss: 0.9345 - val_accuracy: 0.6016\n",
            "Epoch 10/100\n",
            "8/8 [==============================] - 20s 2s/step - loss: 0.5142 - accuracy: 0.7341 - val_loss: 1.1155 - val_accuracy: 0.5938\n",
            "Epoch 11/100\n",
            "8/8 [==============================] - 20s 2s/step - loss: 0.4576 - accuracy: 0.8020 - val_loss: 0.4109 - val_accuracy: 0.8477\n",
            "Epoch 12/100\n",
            "8/8 [==============================] - 20s 2s/step - loss: 0.4962 - accuracy: 0.7586 - val_loss: 1.0342 - val_accuracy: 0.6484\n",
            "Epoch 13/100\n",
            "8/8 [==============================] - 20s 2s/step - loss: 0.4342 - accuracy: 0.8209 - val_loss: 1.2448 - val_accuracy: 0.6406\n",
            "Epoch 14/100\n",
            "8/8 [==============================] - 20s 2s/step - loss: 0.4357 - accuracy: 0.8065 - val_loss: 0.3253 - val_accuracy: 0.8828\n",
            "Epoch 15/100\n",
            "8/8 [==============================] - 20s 2s/step - loss: 0.4720 - accuracy: 0.7831 - val_loss: 1.2713 - val_accuracy: 0.6484\n",
            "Epoch 16/100\n",
            "8/8 [==============================] - 20s 2s/step - loss: 0.4409 - accuracy: 0.7909 - val_loss: 1.1222 - val_accuracy: 0.6719\n",
            "Epoch 17/100\n",
            "8/8 [==============================] - 20s 2s/step - loss: 0.4269 - accuracy: 0.8031 - val_loss: 0.9774 - val_accuracy: 0.7070\n",
            "Epoch 18/100\n",
            "8/8 [==============================] - 23s 3s/step - loss: 0.4096 - accuracy: 0.8320 - val_loss: 1.0429 - val_accuracy: 0.6797\n",
            "Epoch 19/100\n",
            "8/8 [==============================] - 20s 2s/step - loss: 0.4002 - accuracy: 0.8231 - val_loss: 1.1832 - val_accuracy: 0.6719\n",
            "Epoch 20/100\n",
            "8/8 [==============================] - 20s 2s/step - loss: 0.3935 - accuracy: 0.8165 - val_loss: 1.2179 - val_accuracy: 0.6641\n",
            "Epoch 21/100\n",
            "8/8 [==============================] - 20s 2s/step - loss: 0.4188 - accuracy: 0.8042 - val_loss: 1.2176 - val_accuracy: 0.6562\n",
            "Epoch 22/100\n",
            "8/8 [==============================] - 22s 3s/step - loss: 0.3495 - accuracy: 0.8516 - val_loss: 1.3202 - val_accuracy: 0.6719\n",
            "Epoch 23/100\n",
            "8/8 [==============================] - 20s 2s/step - loss: 0.3947 - accuracy: 0.8309 - val_loss: 1.2600 - val_accuracy: 0.6758\n",
            "Epoch 24/100\n",
            "8/8 [==============================] - 22s 3s/step - loss: 0.3276 - accuracy: 0.8643 - val_loss: 1.3899 - val_accuracy: 0.6758\n",
            "Epoch 25/100\n",
            "8/8 [==============================] - 20s 2s/step - loss: 0.4169 - accuracy: 0.8276 - val_loss: 1.2877 - val_accuracy: 0.6797\n",
            "Epoch 26/100\n",
            "8/8 [==============================] - 20s 2s/step - loss: 0.2964 - accuracy: 0.8788 - val_loss: 1.6942 - val_accuracy: 0.6641\n",
            "Epoch 27/100\n",
            "8/8 [==============================] - 19s 2s/step - loss: 0.3331 - accuracy: 0.8654 - val_loss: 1.1915 - val_accuracy: 0.7227\n",
            "Epoch 28/100\n",
            "8/8 [==============================] - 19s 2s/step - loss: 0.3105 - accuracy: 0.8743 - val_loss: 2.1211 - val_accuracy: 0.6094\n",
            "Epoch 29/100\n",
            "8/8 [==============================] - 19s 2s/step - loss: 0.4072 - accuracy: 0.8176 - val_loss: 1.4559 - val_accuracy: 0.6562\n",
            "Epoch 30/100\n",
            "8/8 [==============================] - 19s 2s/step - loss: 0.2851 - accuracy: 0.8799 - val_loss: 1.4930 - val_accuracy: 0.6797\n",
            "Epoch 31/100\n",
            "8/8 [==============================] - 19s 2s/step - loss: 0.2632 - accuracy: 0.8988 - val_loss: 1.8947 - val_accuracy: 0.6406\n",
            "Epoch 32/100\n",
            "8/8 [==============================] - 22s 3s/step - loss: 0.2948 - accuracy: 0.8821 - val_loss: 1.8717 - val_accuracy: 0.6641\n",
            "Epoch 33/100\n",
            "8/8 [==============================] - 19s 2s/step - loss: 0.2823 - accuracy: 0.8966 - val_loss: 1.0216 - val_accuracy: 0.7617\n",
            "Epoch 34/100\n",
            "8/8 [==============================] - 20s 2s/step - loss: 0.3790 - accuracy: 0.8509 - val_loss: 1.3504 - val_accuracy: 0.6836\n",
            "Epoch 35/100\n",
            "8/8 [==============================] - 23s 3s/step - loss: 0.2593 - accuracy: 0.8988 - val_loss: 1.9244 - val_accuracy: 0.6484\n",
            "Epoch 36/100\n",
            "8/8 [==============================] - 20s 3s/step - loss: 0.2505 - accuracy: 0.8988 - val_loss: 0.7454 - val_accuracy: 0.8164\n",
            "Epoch 37/100\n",
            "8/8 [==============================] - 20s 2s/step - loss: 0.2857 - accuracy: 0.8832 - val_loss: 1.9522 - val_accuracy: 0.6719\n",
            "Epoch 38/100\n",
            "8/8 [==============================] - 19s 2s/step - loss: 0.2558 - accuracy: 0.8888 - val_loss: 2.2591 - val_accuracy: 0.6445\n",
            "Epoch 39/100\n",
            "8/8 [==============================] - 20s 2s/step - loss: 0.2394 - accuracy: 0.8954 - val_loss: 2.5378 - val_accuracy: 0.6172\n",
            "Epoch 40/100\n",
            "8/8 [==============================] - 20s 2s/step - loss: 0.3001 - accuracy: 0.8721 - val_loss: 1.5260 - val_accuracy: 0.6875\n",
            "Epoch 41/100\n",
            "8/8 [==============================] - 23s 3s/step - loss: 0.2144 - accuracy: 0.9232 - val_loss: 1.9996 - val_accuracy: 0.6562\n",
            "Epoch 42/100\n",
            "8/8 [==============================] - 20s 2s/step - loss: 0.2290 - accuracy: 0.9077 - val_loss: 1.8740 - val_accuracy: 0.6758\n",
            "Epoch 43/100\n",
            "8/8 [==============================] - 19s 2s/step - loss: 0.2555 - accuracy: 0.8832 - val_loss: 2.0516 - val_accuracy: 0.6602\n",
            "Epoch 44/100\n",
            "8/8 [==============================] - 19s 2s/step - loss: 0.1939 - accuracy: 0.9210 - val_loss: 2.2015 - val_accuracy: 0.6562\n",
            "Epoch 45/100\n",
            "8/8 [==============================] - 19s 2s/step - loss: 0.2145 - accuracy: 0.9110 - val_loss: 3.3073 - val_accuracy: 0.5586\n",
            "Epoch 46/100\n",
            "8/8 [==============================] - 20s 2s/step - loss: 0.2499 - accuracy: 0.9032 - val_loss: 1.3350 - val_accuracy: 0.7383\n",
            "Epoch 47/100\n",
            "8/8 [==============================] - 20s 2s/step - loss: 0.2339 - accuracy: 0.9043 - val_loss: 2.2015 - val_accuracy: 0.6562\n",
            "Epoch 48/100\n",
            "8/8 [==============================] - 22s 3s/step - loss: 0.2294 - accuracy: 0.9023 - val_loss: 1.3534 - val_accuracy: 0.7305\n",
            "Epoch 49/100\n",
            "8/8 [==============================] - 20s 2s/step - loss: 0.2103 - accuracy: 0.9188 - val_loss: 1.8625 - val_accuracy: 0.6797\n",
            "Epoch 50/100\n",
            "8/8 [==============================] - 20s 2s/step - loss: 0.2251 - accuracy: 0.8932 - val_loss: 3.0108 - val_accuracy: 0.5625\n",
            "Epoch 51/100\n",
            "8/8 [==============================] - 20s 2s/step - loss: 0.2661 - accuracy: 0.8843 - val_loss: 1.5387 - val_accuracy: 0.7188\n",
            "Epoch 52/100\n",
            "8/8 [==============================] - 20s 2s/step - loss: 0.1897 - accuracy: 0.9344 - val_loss: 1.7737 - val_accuracy: 0.7031\n",
            "Epoch 53/100\n",
            "8/8 [==============================] - 20s 3s/step - loss: 0.1814 - accuracy: 0.9321 - val_loss: 2.7148 - val_accuracy: 0.6484\n",
            "Epoch 54/100\n",
            "8/8 [==============================] - 20s 3s/step - loss: 0.1784 - accuracy: 0.9277 - val_loss: 0.7296 - val_accuracy: 0.8594\n",
            "Epoch 55/100\n",
            "8/8 [==============================] - 23s 3s/step - loss: 0.2544 - accuracy: 0.9053 - val_loss: 2.1011 - val_accuracy: 0.6758\n",
            "Epoch 56/100\n",
            "8/8 [==============================] - 20s 2s/step - loss: 0.1632 - accuracy: 0.9310 - val_loss: 1.7963 - val_accuracy: 0.7109\n",
            "Epoch 57/100\n",
            "8/8 [==============================] - 20s 2s/step - loss: 0.1813 - accuracy: 0.9299 - val_loss: 1.5503 - val_accuracy: 0.7461\n",
            "Epoch 58/100\n",
            "8/8 [==============================] - 20s 2s/step - loss: 0.1909 - accuracy: 0.9232 - val_loss: 2.7737 - val_accuracy: 0.6523\n",
            "Epoch 59/100\n",
            "8/8 [==============================] - 20s 2s/step - loss: 0.1921 - accuracy: 0.9221 - val_loss: 2.7739 - val_accuracy: 0.6523\n",
            "Epoch 60/100\n",
            "8/8 [==============================] - 23s 3s/step - loss: 0.1860 - accuracy: 0.9333 - val_loss: 2.0453 - val_accuracy: 0.6914\n",
            "Epoch 61/100\n",
            "8/8 [==============================] - 23s 3s/step - loss: 0.1347 - accuracy: 0.9477 - val_loss: 1.7852 - val_accuracy: 0.7266\n",
            "Epoch 62/100\n",
            "8/8 [==============================] - 20s 3s/step - loss: 0.2181 - accuracy: 0.9121 - val_loss: 1.9284 - val_accuracy: 0.6953\n",
            "Epoch 63/100\n",
            "8/8 [==============================] - 22s 3s/step - loss: 0.1748 - accuracy: 0.9258 - val_loss: 2.1368 - val_accuracy: 0.6836\n",
            "Epoch 64/100\n",
            "8/8 [==============================] - 20s 2s/step - loss: 0.1842 - accuracy: 0.9299 - val_loss: 1.8634 - val_accuracy: 0.6914\n",
            "Epoch 65/100\n",
            "8/8 [==============================] - 20s 2s/step - loss: 0.1636 - accuracy: 0.9310 - val_loss: 1.9521 - val_accuracy: 0.7031\n",
            "Epoch 66/100\n",
            "8/8 [==============================] - 20s 3s/step - loss: 0.1977 - accuracy: 0.9255 - val_loss: 1.7853 - val_accuracy: 0.7227\n",
            "Epoch 67/100\n",
            "8/8 [==============================] - 20s 3s/step - loss: 0.1690 - accuracy: 0.9244 - val_loss: 3.0007 - val_accuracy: 0.6445\n",
            "Epoch 68/100\n",
            "8/8 [==============================] - 20s 3s/step - loss: 0.1780 - accuracy: 0.9277 - val_loss: 0.5916 - val_accuracy: 0.8750\n",
            "Epoch 69/100\n",
            "8/8 [==============================] - 20s 3s/step - loss: 0.2589 - accuracy: 0.9055 - val_loss: 2.1695 - val_accuracy: 0.6836\n",
            "Epoch 70/100\n",
            "8/8 [==============================] - 20s 2s/step - loss: 0.1179 - accuracy: 0.9611 - val_loss: 3.4022 - val_accuracy: 0.5664\n",
            "Epoch 71/100\n",
            "8/8 [==============================] - 20s 3s/step - loss: 0.2307 - accuracy: 0.9066 - val_loss: 1.6590 - val_accuracy: 0.7070\n",
            "Epoch 72/100\n",
            "8/8 [==============================] - 20s 3s/step - loss: 0.2522 - accuracy: 0.9066 - val_loss: 1.7297 - val_accuracy: 0.7070\n",
            "Epoch 73/100\n",
            "8/8 [==============================] - 20s 3s/step - loss: 0.1805 - accuracy: 0.9310 - val_loss: 2.2422 - val_accuracy: 0.6758\n",
            "Epoch 74/100\n",
            "8/8 [==============================] - 20s 3s/step - loss: 0.1412 - accuracy: 0.9544 - val_loss: 4.5043 - val_accuracy: 0.5820\n",
            "Epoch 75/100\n",
            "8/8 [==============================] - 20s 3s/step - loss: 0.1756 - accuracy: 0.9299 - val_loss: 2.0495 - val_accuracy: 0.7031\n",
            "Epoch 76/100\n",
            "8/8 [==============================] - 20s 3s/step - loss: 0.1454 - accuracy: 0.9444 - val_loss: 1.3342 - val_accuracy: 0.7773\n",
            "Epoch 77/100\n",
            "8/8 [==============================] - 20s 3s/step - loss: 0.1526 - accuracy: 0.9455 - val_loss: 2.4945 - val_accuracy: 0.6719\n",
            "Epoch 78/100\n",
            "8/8 [==============================] - 20s 3s/step - loss: 0.2028 - accuracy: 0.9166 - val_loss: 2.3489 - val_accuracy: 0.6758\n",
            "Epoch 79/100\n",
            "8/8 [==============================] - 20s 3s/step - loss: 0.1469 - accuracy: 0.9455 - val_loss: 2.2516 - val_accuracy: 0.6914\n",
            "Epoch 80/100\n",
            "8/8 [==============================] - 20s 3s/step - loss: 0.2756 - accuracy: 0.9099 - val_loss: 2.0041 - val_accuracy: 0.6914\n",
            "Epoch 81/100\n",
            "8/8 [==============================] - 20s 3s/step - loss: 0.1254 - accuracy: 0.9544 - val_loss: 3.4700 - val_accuracy: 0.5977\n",
            "Epoch 82/100\n",
            "8/8 [==============================] - 20s 3s/step - loss: 0.1455 - accuracy: 0.9499 - val_loss: 2.0807 - val_accuracy: 0.6992\n",
            "Epoch 83/100\n",
            "8/8 [==============================] - 20s 3s/step - loss: 0.1315 - accuracy: 0.9511 - val_loss: 2.2790 - val_accuracy: 0.6992\n",
            "Epoch 84/100\n",
            "8/8 [==============================] - 20s 3s/step - loss: 0.1436 - accuracy: 0.9466 - val_loss: 2.6904 - val_accuracy: 0.6641\n",
            "Epoch 85/100\n",
            "8/8 [==============================] - 20s 3s/step - loss: 0.1833 - accuracy: 0.9333 - val_loss: 1.3832 - val_accuracy: 0.7578\n",
            "Epoch 86/100\n",
            "8/8 [==============================] - 20s 3s/step - loss: 0.1132 - accuracy: 0.9566 - val_loss: 2.5808 - val_accuracy: 0.6758\n",
            "Epoch 87/100\n",
            "8/8 [==============================] - 23s 3s/step - loss: 0.1182 - accuracy: 0.9533 - val_loss: 2.1326 - val_accuracy: 0.7109\n",
            "Epoch 88/100\n",
            "8/8 [==============================] - 20s 3s/step - loss: 0.1760 - accuracy: 0.9355 - val_loss: 2.6583 - val_accuracy: 0.6562\n",
            "Epoch 89/100\n",
            "8/8 [==============================] - 23s 3s/step - loss: 0.1327 - accuracy: 0.9488 - val_loss: 1.9204 - val_accuracy: 0.7148\n",
            "Epoch 90/100\n",
            "8/8 [==============================] - 20s 3s/step - loss: 0.1525 - accuracy: 0.9388 - val_loss: 2.9066 - val_accuracy: 0.6406\n",
            "Epoch 91/100\n",
            "8/8 [==============================] - 20s 3s/step - loss: 0.1436 - accuracy: 0.9455 - val_loss: 2.4601 - val_accuracy: 0.6875\n",
            "Epoch 92/100\n",
            "8/8 [==============================] - 20s 3s/step - loss: 0.1016 - accuracy: 0.9655 - val_loss: 2.0745 - val_accuracy: 0.7148\n",
            "Epoch 93/100\n",
            "8/8 [==============================] - 20s 3s/step - loss: 0.1453 - accuracy: 0.9433 - val_loss: 2.6352 - val_accuracy: 0.6680\n",
            "Epoch 94/100\n",
            "8/8 [==============================] - 20s 3s/step - loss: 0.1094 - accuracy: 0.9566 - val_loss: 2.0334 - val_accuracy: 0.7266\n",
            "Epoch 95/100\n",
            "8/8 [==============================] - 20s 3s/step - loss: 0.1063 - accuracy: 0.9588 - val_loss: 1.7793 - val_accuracy: 0.7695\n",
            "Epoch 96/100\n",
            "8/8 [==============================] - 20s 3s/step - loss: 0.1339 - accuracy: 0.9499 - val_loss: 1.8889 - val_accuracy: 0.7305\n",
            "Epoch 97/100\n",
            "8/8 [==============================] - 23s 3s/step - loss: 0.1031 - accuracy: 0.9611 - val_loss: 1.7475 - val_accuracy: 0.7578\n",
            "Epoch 98/100\n",
            "8/8 [==============================] - 20s 3s/step - loss: 0.1715 - accuracy: 0.9310 - val_loss: 2.4188 - val_accuracy: 0.6875\n",
            "Epoch 99/100\n",
            "8/8 [==============================] - 20s 3s/step - loss: 0.0961 - accuracy: 0.9722 - val_loss: 2.3083 - val_accuracy: 0.7109\n",
            "Epoch 100/100\n",
            "8/8 [==============================] - 20s 3s/step - loss: 0.1238 - accuracy: 0.9555 - val_loss: 3.8564 - val_accuracy: 0.6328\n"
          ],
          "name": "stdout"
        }
      ]
    },
    {
      "cell_type": "code",
      "metadata": {
        "colab_type": "code",
        "id": "7zNPRWOVJdOH",
        "colab": {
          "base_uri": "https://localhost:8080/",
          "height": 545
        },
        "outputId": "b94b6933-7a2a-4370-8250-299a09b6b455"
      },
      "source": [
        "import matplotlib.pyplot as plt\n",
        "acc = history.history['accuracy']\n",
        "val_acc = history.history['val_accuracy']\n",
        "loss = history.history['loss']\n",
        "val_loss = history.history['val_loss']\n",
        "\n",
        "epochs = range(len(acc))\n",
        "\n",
        "plt.plot(epochs, acc, 'r', label='Training accuracy')\n",
        "plt.plot(epochs, val_acc, 'b', label='Validation accuracy')\n",
        "plt.title('Training and validation accuracy')\n",
        "\n",
        "plt.figure()\n",
        "\n",
        "plt.plot(epochs, loss, 'r', label='Training Loss')\n",
        "plt.plot(epochs, val_loss, 'b', label='Validation Loss')\n",
        "plt.title('Training and validation loss')\n",
        "plt.legend()\n",
        "\n",
        "plt.show()"
      ],
      "execution_count": 7,
      "outputs": [
        {
          "output_type": "display_data",
          "data": {
            "image/png": "[encoded data removed]",
            "text/plain": [
              "<Figure size 432x288 with 1 Axes>"
            ]
          },
          "metadata": {
            "tags": [],
            "needs_background": "light"
          }
        },
        {
          "output_type": "display_data",
          "data": {
            "image/png": "[encoded data removed]",
            "text/plain": [
              "<Figure size 432x288 with 1 Axes>"
            ]
          },
          "metadata": {
            "tags": [],
            "needs_background": "light"
          }
        }
      ]
    },
    {
      "cell_type": "markdown",
      "metadata": {
        "id": "E2X-TF90dHrv",
        "colab_type": "text"
      },
      "source": [
        "Even with data augmentation we are not always to reduce overfitting. It will depend on how our images are (if, as an example, all of them are face portraits and we are overfitting, augmenting the images won't work)."
      ]
    }
  ]
}
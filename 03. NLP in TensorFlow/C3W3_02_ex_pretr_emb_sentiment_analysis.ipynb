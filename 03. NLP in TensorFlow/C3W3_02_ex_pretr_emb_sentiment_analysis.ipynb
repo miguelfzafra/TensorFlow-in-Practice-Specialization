{
  "nbformat": 4,
  "nbformat_minor": 0,
  "metadata": {
    "accelerator": "GPU",
    "colab": {
      "name": "Copia de NLP Course - Week 3 Exercise Answer.ipynb",
      "provenance": [],
      "collapsed_sections": [],
      "toc_visible": true
    },
    "kernelspec": {
      "display_name": "Python 3",
      "name": "python3"
    }
  },
  "cells": [
    {
      "cell_type": "code",
      "metadata": {
        "id": "zX4Kg8DUTKWO",
        "colab_type": "code",
        "colab": {},
        "cellView": "form"
      },
      "source": [
        "#@title Licensed under the Apache License, Version 2.0 (the \"License\");\n",
        "# you may not use this file except in compliance with the License.\n",
        "# You may obtain a copy of the License at\n",
        "#\n",
        "# https://www.apache.org/licenses/LICENSE-2.0\n",
        "#\n",
        "# Unless required by applicable law or agreed to in writing, software\n",
        "# distributed under the License is distributed on an \"AS IS\" BASIS,\n",
        "# WITHOUT WARRANTIES OR CONDITIONS OF ANY KIND, either express or implied.\n",
        "# See the License for the specific language governing permissions and\n",
        "# limitations under the License."
      ],
      "execution_count": 0,
      "outputs": []
    },
    {
      "cell_type": "markdown",
      "metadata": {
        "id": "cY8AZpxpF3ZC",
        "colab_type": "text"
      },
      "source": [
        "# Week 3 - Exercise: sentiment analysis with pre-trained word embeddings"
      ]
    },
    {
      "cell_type": "code",
      "metadata": {
        "colab_type": "code",
        "id": "hmA6EzkQJ5jt",
        "colab": {}
      },
      "source": [
        "import json\n",
        "import tensorflow as tf\n",
        "import csv\n",
        "import random\n",
        "import numpy as np\n",
        "\n",
        "from tensorflow.keras.preprocessing.text import Tokenizer\n",
        "from tensorflow.keras.preprocessing.sequence import pad_sequences\n",
        "from tensorflow.keras.utils import to_categorical\n",
        "from tensorflow.keras import regularizers\n",
        "\n",
        "\n",
        "embedding_dim = 100\n",
        "max_length = 16\n",
        "trunc_type='post'\n",
        "padding_type='post'\n",
        "oov_tok = \"<OOV>\"\n",
        "training_size=160000\n",
        "test_portion=.1\n",
        "\n",
        "corpus = []\n"
      ],
      "execution_count": 0,
      "outputs": []
    },
    {
      "cell_type": "code",
      "metadata": {
        "colab_type": "code",
        "id": "bM0l_dORKqE0",
        "outputId": "105e67cf-98bf-4f2e-cc5d-5eb4cbdb03ed",
        "colab": {
          "base_uri": "https://localhost:8080/",
          "height": 200
        }
      },
      "source": [
        "# Note that I cleaned the Stanford dataset to remove LATIN1 encoding to make it easier for Python CSV reader\n",
        "# You can do that yourself with:\n",
        "# iconv -f LATIN1 -t UTF8 training.1600000.processed.noemoticon.csv -o training_cleaned.csv\n",
        "# I then hosted it on my site to make it easier to use in this notebook\n",
        "\n",
        "!wget --no-check-certificate \\\n",
        "    https://storage.googleapis.com/laurencemoroney-blog.appspot.com/training_cleaned.csv \\\n",
        "    -O /tmp/training_cleaned.csv\n",
        "\n",
        "num_sentences = 0\n",
        "\n",
        "with open(\"/tmp/training_cleaned.csv\") as csvfile:\n",
        "    reader = csv.reader(csvfile, delimiter=',')\n",
        "    for row in reader:\n",
        "        list_item=[]\n",
        "        list_item.append(row[5])\n",
        "        this_label=row[0]\n",
        "        if this_label=='0':\n",
        "            list_item.append(0)\n",
        "        else:\n",
        "            list_item.append(1)\n",
        "        num_sentences = num_sentences + 1\n",
        "        corpus.append(list_item)\n"
      ],
      "execution_count": 2,
      "outputs": [
        {
          "output_type": "stream",
          "text": [
            "--2020-05-31 14:17:19--  https://storage.googleapis.com/laurencemoroney-blog.appspot.com/training_cleaned.csv\n",
            "Resolving storage.googleapis.com (storage.googleapis.com)... 172.217.203.128, 2607:f8b0:400c:c02::80\n",
            "Connecting to storage.googleapis.com (storage.googleapis.com)|172.217.203.128|:443... connected.\n",
            "HTTP request sent, awaiting response... 200 OK\n",
            "Length: 238942690 (228M) [application/octet-stream]\n",
            "Saving to: ‘/tmp/training_cleaned.csv’\n",
            "\n",
            "/tmp/training_clean 100%[===================>] 227.87M   225MB/s    in 1.0s    \n",
            "\n",
            "2020-05-31 14:17:20 (225 MB/s) - ‘/tmp/training_cleaned.csv’ saved [238942690/238942690]\n",
            "\n"
          ],
          "name": "stdout"
        }
      ]
    },
    {
      "cell_type": "code",
      "metadata": {
        "colab_type": "code",
        "id": "3kxblBUjEUX-",
        "outputId": "4eddc5d0-4ed9-4b34-eb37-c9f61316f83a",
        "colab": {
          "base_uri": "https://localhost:8080/",
          "height": 67
        }
      },
      "source": [
        "print(num_sentences)\n",
        "print(len(corpus))\n",
        "print(corpus[1])"
      ],
      "execution_count": 3,
      "outputs": [
        {
          "output_type": "stream",
          "text": [
            "1600000\n",
            "1600000\n",
            "[\"is upset that he can't update his Facebook by texting it... and might cry as a result  School today also. Blah!\", 0]\n"
          ],
          "name": "stdout"
        }
      ]
    },
    {
      "cell_type": "code",
      "metadata": {
        "colab_type": "code",
        "id": "ohOGz24lsNAD",
        "colab": {}
      },
      "source": [
        "sentences=[]\n",
        "labels=[]\n",
        "random.shuffle(corpus)\n",
        "for x in range(training_size):\n",
        "    sentences.append(corpus[x][0])\n",
        "    labels.append(corpus[x][1])\n",
        "\n",
        "\n",
        "tokenizer = Tokenizer()\n",
        "tokenizer.fit_on_texts(sentences)\n",
        "\n",
        "word_index = tokenizer.word_index\n",
        "vocab_size=len(word_index)\n",
        "\n",
        "sequences = tokenizer.texts_to_sequences(sentences)\n",
        "padded = pad_sequences(sequences, maxlen=max_length, padding=padding_type, truncating=trunc_type)\n",
        "\n",
        "split = int(test_portion * training_size)\n",
        "\n",
        "test_sequences = padded[0:split]\n",
        "training_sequences = padded[split:training_size]\n",
        "test_labels = labels[0:split]\n",
        "training_labels = labels[split:training_size]"
      ],
      "execution_count": 0,
      "outputs": []
    },
    {
      "cell_type": "code",
      "metadata": {
        "colab_type": "code",
        "id": "gIrtRem1En3N",
        "outputId": "ede50e52-4a73-4bfb-83e6-03c16a8f7de1",
        "colab": {
          "base_uri": "https://localhost:8080/",
          "height": 50
        }
      },
      "source": [
        "print(vocab_size)\n",
        "print(word_index['i'])"
      ],
      "execution_count": 5,
      "outputs": [
        {
          "output_type": "stream",
          "text": [
            "138485\n",
            "1\n"
          ],
          "name": "stdout"
        }
      ]
    },
    {
      "cell_type": "code",
      "metadata": {
        "colab_type": "code",
        "id": "C1zdgJkusRh0",
        "outputId": "e000a0b6-cf90-4ce1-f4d7-2ce02abb382e",
        "colab": {
          "base_uri": "https://localhost:8080/",
          "height": 200
        }
      },
      "source": [
        "# Note this is the 100 dimension version of GloVe from Stanford\n",
        "# I unzipped and hosted it on my site to make this notebook easier\n",
        "!wget --no-check-certificate \\\n",
        "    https://storage.googleapis.com/laurencemoroney-blog.appspot.com/glove.6B.100d.txt \\\n",
        "    -O /tmp/glove.6B.100d.txt\n",
        "embeddings_index = {};\n",
        "with open('/tmp/glove.6B.100d.txt') as f:\n",
        "    for line in f:\n",
        "        values = line.split();\n",
        "        word = values[0];\n",
        "        coefs = np.asarray(values[1:], dtype='float32');\n",
        "        embeddings_index[word] = coefs;\n",
        "\n",
        "embeddings_matrix = np.zeros((vocab_size+1, embedding_dim));\n",
        "for word, i in word_index.items():\n",
        "    embedding_vector = embeddings_index.get(word);\n",
        "    if embedding_vector is not None:\n",
        "        embeddings_matrix[i] = embedding_vector;"
      ],
      "execution_count": 6,
      "outputs": [
        {
          "output_type": "stream",
          "text": [
            "--2020-05-31 14:17:52--  https://storage.googleapis.com/laurencemoroney-blog.appspot.com/glove.6B.100d.txt\n",
            "Resolving storage.googleapis.com (storage.googleapis.com)... 172.217.203.128, 2607:f8b0:400c:c1a::80\n",
            "Connecting to storage.googleapis.com (storage.googleapis.com)|172.217.203.128|:443... connected.\n",
            "HTTP request sent, awaiting response... 200 OK\n",
            "Length: 347116733 (331M) [text/plain]\n",
            "Saving to: ‘/tmp/glove.6B.100d.txt’\n",
            "\n",
            "/tmp/glove.6B.100d. 100%[===================>] 331.04M   119MB/s    in 2.8s    \n",
            "\n",
            "2020-05-31 14:17:55 (119 MB/s) - ‘/tmp/glove.6B.100d.txt’ saved [347116733/347116733]\n",
            "\n"
          ],
          "name": "stdout"
        }
      ]
    },
    {
      "cell_type": "code",
      "metadata": {
        "colab_type": "code",
        "id": "71NLk_lpFLNt",
        "outputId": "96c18354-9d15-493f-b598-5cbdb37b9e96",
        "colab": {
          "base_uri": "https://localhost:8080/",
          "height": 33
        }
      },
      "source": [
        "print(len(embeddings_matrix))"
      ],
      "execution_count": 7,
      "outputs": [
        {
          "output_type": "stream",
          "text": [
            "138486\n"
          ],
          "name": "stdout"
        }
      ]
    },
    {
      "cell_type": "code",
      "metadata": {
        "id": "7YTysAAeGWgO",
        "colab_type": "code",
        "colab": {}
      },
      "source": [
        "training_sequences = np.array(training_sequences)\n",
        "training_labels = np.array(training_labels)\n",
        "test_sequences = np.array(test_sequences)\n",
        "test_labels = np.array(test_labels)"
      ],
      "execution_count": 0,
      "outputs": []
    },
    {
      "cell_type": "code",
      "metadata": {
        "colab_type": "code",
        "id": "iKKvbuEBOGFz",
        "colab": {
          "base_uri": "https://localhost:8080/",
          "height": 1000
        },
        "outputId": "ce826b6d-489a-423b-9ab9-bb0020512223"
      },
      "source": [
        "model = tf.keras.Sequential([\n",
        "    tf.keras.layers.Embedding(vocab_size+1, embedding_dim, input_length=max_length, weights=[embeddings_matrix], trainable=False),\n",
        "    tf.keras.layers.Dropout(0.2),\n",
        "    tf.keras.layers.Conv1D(64, 5, activation='relu'),\n",
        "    tf.keras.layers.MaxPooling1D(pool_size=4),\n",
        "    tf.keras.layers.LSTM(64),\n",
        "    tf.keras.layers.Dense(1, activation='sigmoid')\n",
        "])\n",
        "model.compile(loss='binary_crossentropy',optimizer='adam',metrics=['accuracy'])\n",
        "model.summary()\n",
        "\n",
        "num_epochs = 50\n",
        "history = model.fit(training_sequences, training_labels, epochs=num_epochs, validation_data=(test_sequences, test_labels), verbose=2)\n",
        "\n",
        "print(\"Training Complete\")"
      ],
      "execution_count": 10,
      "outputs": [
        {
          "output_type": "stream",
          "text": [
            "Model: \"sequential_1\"\n",
            "_________________________________________________________________\n",
            "Layer (type)                 Output Shape              Param #   \n",
            "=================================================================\n",
            "embedding_1 (Embedding)      (None, 16, 100)           13848600  \n",
            "_________________________________________________________________\n",
            "dropout_1 (Dropout)          (None, 16, 100)           0         \n",
            "_________________________________________________________________\n",
            "conv1d_1 (Conv1D)            (None, 12, 64)            32064     \n",
            "_________________________________________________________________\n",
            "max_pooling1d_1 (MaxPooling1 (None, 3, 64)             0         \n",
            "_________________________________________________________________\n",
            "lstm_1 (LSTM)                (None, 64)                33024     \n",
            "_________________________________________________________________\n",
            "dense_1 (Dense)              (None, 1)                 65        \n",
            "=================================================================\n",
            "Total params: 13,913,753\n",
            "Trainable params: 65,153\n",
            "Non-trainable params: 13,848,600\n",
            "_________________________________________________________________\n",
            "Epoch 1/50\n",
            "4500/4500 - 15s - loss: 0.5670 - accuracy: 0.7003 - val_loss: 0.5255 - val_accuracy: 0.7341\n",
            "Epoch 2/50\n",
            "4500/4500 - 14s - loss: 0.5279 - accuracy: 0.7308 - val_loss: 0.5187 - val_accuracy: 0.7402\n",
            "Epoch 3/50\n",
            "4500/4500 - 14s - loss: 0.5114 - accuracy: 0.7428 - val_loss: 0.5072 - val_accuracy: 0.7508\n",
            "Epoch 4/50\n",
            "4500/4500 - 14s - loss: 0.4988 - accuracy: 0.7534 - val_loss: 0.4997 - val_accuracy: 0.7569\n",
            "Epoch 5/50\n",
            "4500/4500 - 14s - loss: 0.4904 - accuracy: 0.7582 - val_loss: 0.5007 - val_accuracy: 0.7570\n",
            "Epoch 6/50\n",
            "4500/4500 - 15s - loss: 0.4833 - accuracy: 0.7622 - val_loss: 0.5034 - val_accuracy: 0.7523\n",
            "Epoch 7/50\n",
            "4500/4500 - 15s - loss: 0.4776 - accuracy: 0.7650 - val_loss: 0.5000 - val_accuracy: 0.7544\n",
            "Epoch 8/50\n",
            "4500/4500 - 15s - loss: 0.4715 - accuracy: 0.7699 - val_loss: 0.5055 - val_accuracy: 0.7501\n",
            "Epoch 9/50\n",
            "4500/4500 - 14s - loss: 0.4669 - accuracy: 0.7730 - val_loss: 0.4997 - val_accuracy: 0.7501\n",
            "Epoch 10/50\n",
            "4500/4500 - 14s - loss: 0.4624 - accuracy: 0.7768 - val_loss: 0.4975 - val_accuracy: 0.7561\n",
            "Epoch 11/50\n",
            "4500/4500 - 15s - loss: 0.4595 - accuracy: 0.7776 - val_loss: 0.5054 - val_accuracy: 0.7518\n",
            "Epoch 12/50\n",
            "4500/4500 - 15s - loss: 0.4560 - accuracy: 0.7803 - val_loss: 0.5002 - val_accuracy: 0.7553\n",
            "Epoch 13/50\n",
            "4500/4500 - 15s - loss: 0.4528 - accuracy: 0.7816 - val_loss: 0.5066 - val_accuracy: 0.7535\n",
            "Epoch 14/50\n",
            "4500/4500 - 14s - loss: 0.4500 - accuracy: 0.7837 - val_loss: 0.5068 - val_accuracy: 0.7497\n",
            "Epoch 15/50\n",
            "4500/4500 - 14s - loss: 0.4484 - accuracy: 0.7847 - val_loss: 0.5045 - val_accuracy: 0.7537\n",
            "Epoch 16/50\n",
            "4500/4500 - 14s - loss: 0.4462 - accuracy: 0.7869 - val_loss: 0.5058 - val_accuracy: 0.7533\n",
            "Epoch 17/50\n",
            "4500/4500 - 14s - loss: 0.4429 - accuracy: 0.7882 - val_loss: 0.5036 - val_accuracy: 0.7569\n",
            "Epoch 18/50\n",
            "4500/4500 - 14s - loss: 0.4440 - accuracy: 0.7863 - val_loss: 0.5055 - val_accuracy: 0.7547\n",
            "Epoch 19/50\n",
            "4500/4500 - 14s - loss: 0.4419 - accuracy: 0.7886 - val_loss: 0.5089 - val_accuracy: 0.7541\n",
            "Epoch 20/50\n",
            "4500/4500 - 15s - loss: 0.4404 - accuracy: 0.7890 - val_loss: 0.5100 - val_accuracy: 0.7549\n",
            "Epoch 21/50\n",
            "4500/4500 - 14s - loss: 0.4395 - accuracy: 0.7901 - val_loss: 0.5109 - val_accuracy: 0.7556\n",
            "Epoch 22/50\n",
            "4500/4500 - 14s - loss: 0.4369 - accuracy: 0.7911 - val_loss: 0.5130 - val_accuracy: 0.7486\n",
            "Epoch 23/50\n",
            "4500/4500 - 14s - loss: 0.4355 - accuracy: 0.7919 - val_loss: 0.5138 - val_accuracy: 0.7539\n",
            "Epoch 24/50\n",
            "4500/4500 - 14s - loss: 0.4355 - accuracy: 0.7926 - val_loss: 0.5157 - val_accuracy: 0.7480\n",
            "Epoch 25/50\n",
            "4500/4500 - 14s - loss: 0.4349 - accuracy: 0.7926 - val_loss: 0.5167 - val_accuracy: 0.7473\n",
            "Epoch 26/50\n",
            "4500/4500 - 14s - loss: 0.4335 - accuracy: 0.7935 - val_loss: 0.5141 - val_accuracy: 0.7505\n",
            "Epoch 27/50\n",
            "4500/4500 - 14s - loss: 0.4334 - accuracy: 0.7936 - val_loss: 0.5168 - val_accuracy: 0.7521\n",
            "Epoch 28/50\n",
            "4500/4500 - 14s - loss: 0.4332 - accuracy: 0.7929 - val_loss: 0.5182 - val_accuracy: 0.7509\n",
            "Epoch 29/50\n",
            "4500/4500 - 14s - loss: 0.4316 - accuracy: 0.7943 - val_loss: 0.5218 - val_accuracy: 0.7474\n",
            "Epoch 30/50\n",
            "4500/4500 - 14s - loss: 0.4299 - accuracy: 0.7946 - val_loss: 0.5223 - val_accuracy: 0.7511\n",
            "Epoch 31/50\n",
            "4500/4500 - 14s - loss: 0.4288 - accuracy: 0.7963 - val_loss: 0.5194 - val_accuracy: 0.7536\n",
            "Epoch 32/50\n",
            "4500/4500 - 14s - loss: 0.4290 - accuracy: 0.7974 - val_loss: 0.5231 - val_accuracy: 0.7518\n",
            "Epoch 33/50\n",
            "4500/4500 - 14s - loss: 0.4303 - accuracy: 0.7958 - val_loss: 0.5154 - val_accuracy: 0.7500\n",
            "Epoch 34/50\n",
            "4500/4500 - 14s - loss: 0.4266 - accuracy: 0.7974 - val_loss: 0.5163 - val_accuracy: 0.7524\n",
            "Epoch 35/50\n",
            "4500/4500 - 14s - loss: 0.4267 - accuracy: 0.7981 - val_loss: 0.5223 - val_accuracy: 0.7492\n",
            "Epoch 36/50\n",
            "4500/4500 - 14s - loss: 0.4270 - accuracy: 0.7968 - val_loss: 0.5212 - val_accuracy: 0.7534\n",
            "Epoch 37/50\n",
            "4500/4500 - 14s - loss: 0.4262 - accuracy: 0.7982 - val_loss: 0.5228 - val_accuracy: 0.7466\n",
            "Epoch 38/50\n",
            "4500/4500 - 14s - loss: 0.4269 - accuracy: 0.7973 - val_loss: 0.5205 - val_accuracy: 0.7482\n",
            "Epoch 39/50\n",
            "4500/4500 - 14s - loss: 0.4263 - accuracy: 0.7971 - val_loss: 0.5213 - val_accuracy: 0.7497\n",
            "Epoch 40/50\n",
            "4500/4500 - 14s - loss: 0.4260 - accuracy: 0.7987 - val_loss: 0.5262 - val_accuracy: 0.7475\n",
            "Epoch 41/50\n",
            "4500/4500 - 14s - loss: 0.4273 - accuracy: 0.7965 - val_loss: 0.5223 - val_accuracy: 0.7478\n",
            "Epoch 42/50\n",
            "4500/4500 - 15s - loss: 0.4262 - accuracy: 0.7978 - val_loss: 0.5217 - val_accuracy: 0.7504\n",
            "Epoch 43/50\n",
            "4500/4500 - 14s - loss: 0.4242 - accuracy: 0.7989 - val_loss: 0.5239 - val_accuracy: 0.7475\n",
            "Epoch 44/50\n",
            "4500/4500 - 14s - loss: 0.4247 - accuracy: 0.8002 - val_loss: 0.5254 - val_accuracy: 0.7454\n",
            "Epoch 45/50\n",
            "4500/4500 - 14s - loss: 0.4257 - accuracy: 0.7982 - val_loss: 0.5263 - val_accuracy: 0.7498\n",
            "Epoch 46/50\n",
            "4500/4500 - 14s - loss: 0.4239 - accuracy: 0.7995 - val_loss: 0.5231 - val_accuracy: 0.7460\n",
            "Epoch 47/50\n",
            "4500/4500 - 14s - loss: 0.4243 - accuracy: 0.7995 - val_loss: 0.5253 - val_accuracy: 0.7517\n",
            "Epoch 48/50\n",
            "4500/4500 - 14s - loss: 0.4228 - accuracy: 0.8007 - val_loss: 0.5216 - val_accuracy: 0.7488\n",
            "Epoch 49/50\n",
            "4500/4500 - 14s - loss: 0.4238 - accuracy: 0.7994 - val_loss: 0.5263 - val_accuracy: 0.7435\n",
            "Epoch 50/50\n",
            "4500/4500 - 14s - loss: 0.4219 - accuracy: 0.8010 - val_loss: 0.5304 - val_accuracy: 0.7406\n",
            "Training Complete\n"
          ],
          "name": "stdout"
        }
      ]
    },
    {
      "cell_type": "code",
      "metadata": {
        "colab_type": "code",
        "id": "qxju4ItJKO8F",
        "colab": {
          "base_uri": "https://localhost:8080/",
          "height": 607
        },
        "outputId": "1f2d5cf5-a15a-4490-9ff5-083fe22301a6"
      },
      "source": [
        "import matplotlib.image  as mpimg\n",
        "import matplotlib.pyplot as plt\n",
        "\n",
        "#-----------------------------------------------------------\n",
        "# Retrieve a list of list results on training and test data\n",
        "# sets for each training epoch\n",
        "#-----------------------------------------------------------\n",
        "acc=history.history['accuracy']\n",
        "val_acc=history.history['val_accuracy']\n",
        "loss=history.history['loss']\n",
        "val_loss=history.history['val_loss']\n",
        "\n",
        "epochs=range(len(acc)) # Get number of epochs\n",
        "\n",
        "#------------------------------------------------\n",
        "# Plot training and validation accuracy per epoch\n",
        "#------------------------------------------------\n",
        "plt.plot(epochs, acc, 'r')\n",
        "plt.plot(epochs, val_acc, 'b')\n",
        "plt.title('Training and validation accuracy')\n",
        "plt.xlabel(\"Epochs\")\n",
        "plt.ylabel(\"Accuracy\")\n",
        "plt.legend([\"Accuracy\", \"Validation Accuracy\"])\n",
        "\n",
        "plt.figure()\n",
        "\n",
        "#------------------------------------------------\n",
        "# Plot training and validation loss per epoch\n",
        "#------------------------------------------------\n",
        "plt.plot(epochs, loss, 'r')\n",
        "plt.plot(epochs, val_loss, 'b')\n",
        "plt.title('Training and validation loss')\n",
        "plt.xlabel(\"Epochs\")\n",
        "plt.ylabel(\"Loss\")\n",
        "plt.legend([\"Loss\", \"Validation Loss\"])\n",
        "\n",
        "plt.figure()"
      ],
      "execution_count": 11,
      "outputs": [
        {
          "output_type": "execute_result",
          "data": {
            "text/plain": [
              "<Figure size 432x288 with 0 Axes>"
            ]
          },
          "metadata": {
            "tags": []
          },
          "execution_count": 11
        },
        {
          "output_type": "display_data",
          "data": {
            "image/png": "[encoded data removed]",
            "text/plain": [
              "<Figure size 432x288 with 1 Axes>"
            ]
          },
          "metadata": {
            "tags": [],
            "needs_background": "light"
          }
        },
        {
          "output_type": "display_data",
          "data": {
            "image/png": "[encoded data removed]",
            "text/plain": [
              "<Figure size 432x288 with 1 Axes>"
            ]
          },
          "metadata": {
            "tags": [],
            "needs_background": "light"
          }
        },
        {
          "output_type": "display_data",
          "data": {
            "text/plain": [
              "<Figure size 432x288 with 0 Axes>"
            ]
          },
          "metadata": {
            "tags": []
          }
        }
      ]
    }
  ]
}